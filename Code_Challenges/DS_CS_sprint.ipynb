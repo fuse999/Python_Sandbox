{
 "cells": [
  {
   "cell_type": "code",
   "execution_count": 3,
   "metadata": {},
   "outputs": [],
   "source": [
    "import pandas as pd\n",
    "import numpy as np\n",
    "from sklearn import preprocessing\n",
    "scaler = preprocessing.MinMaxScaler()"
   ]
  },
  {
   "cell_type": "code",
   "execution_count": 4,
   "metadata": {},
   "outputs": [],
   "source": [
    "df = pd.read_csv(\"puzzle.csv\")"
   ]
  },
  {
   "cell_type": "code",
   "execution_count": 140,
   "metadata": {},
   "outputs": [
    {
     "data": {
      "text/plain": [
       "a    float64\n",
       "b    float64\n",
       "dtype: object"
      ]
     },
     "execution_count": 140,
     "metadata": {},
     "output_type": "execute_result"
    }
   ],
   "source": [
    "df.dtypes"
   ]
  },
  {
   "cell_type": "code",
   "execution_count": 141,
   "metadata": {},
   "outputs": [
    {
     "data": {
      "text/plain": [
       "False"
      ]
     },
     "execution_count": 141,
     "metadata": {},
     "output_type": "execute_result"
    }
   ],
   "source": [
    "df['a'].isnull().values.any()"
   ]
  },
  {
   "cell_type": "code",
   "execution_count": 142,
   "metadata": {},
   "outputs": [
    {
     "data": {
      "text/plain": [
       "False"
      ]
     },
     "execution_count": 142,
     "metadata": {},
     "output_type": "execute_result"
    }
   ],
   "source": [
    "df['b'].isnull().values.any()"
   ]
  },
  {
   "cell_type": "code",
   "execution_count": 143,
   "metadata": {},
   "outputs": [
    {
     "data": {
      "text/html": [
       "<div>\n",
       "<style scoped>\n",
       "    .dataframe tbody tr th:only-of-type {\n",
       "        vertical-align: middle;\n",
       "    }\n",
       "\n",
       "    .dataframe tbody tr th {\n",
       "        vertical-align: top;\n",
       "    }\n",
       "\n",
       "    .dataframe thead th {\n",
       "        text-align: right;\n",
       "    }\n",
       "</style>\n",
       "<table border=\"1\" class=\"dataframe\">\n",
       "  <thead>\n",
       "    <tr style=\"text-align: right;\">\n",
       "      <th></th>\n",
       "      <th>a</th>\n",
       "      <th>b</th>\n",
       "    </tr>\n",
       "  </thead>\n",
       "  <tbody>\n",
       "    <tr>\n",
       "      <th>count</th>\n",
       "      <td>1024.000000</td>\n",
       "      <td>1024.000000</td>\n",
       "    </tr>\n",
       "    <tr>\n",
       "      <th>mean</th>\n",
       "      <td>0.504729</td>\n",
       "      <td>-0.388165</td>\n",
       "    </tr>\n",
       "    <tr>\n",
       "      <th>std</th>\n",
       "      <td>0.355107</td>\n",
       "      <td>1.499346</td>\n",
       "    </tr>\n",
       "    <tr>\n",
       "      <th>min</th>\n",
       "      <td>-0.925070</td>\n",
       "      <td>-2.837888</td>\n",
       "    </tr>\n",
       "    <tr>\n",
       "      <th>25%</th>\n",
       "      <td>0.389721</td>\n",
       "      <td>-1.559228</td>\n",
       "    </tr>\n",
       "    <tr>\n",
       "      <th>50%</th>\n",
       "      <td>0.591392</td>\n",
       "      <td>-1.129903</td>\n",
       "    </tr>\n",
       "    <tr>\n",
       "      <th>75%</th>\n",
       "      <td>0.746583</td>\n",
       "      <td>0.578621</td>\n",
       "    </tr>\n",
       "    <tr>\n",
       "      <th>max</th>\n",
       "      <td>1.195399</td>\n",
       "      <td>3.096964</td>\n",
       "    </tr>\n",
       "  </tbody>\n",
       "</table>\n",
       "</div>"
      ],
      "text/plain": [
       "                 a            b\n",
       "count  1024.000000  1024.000000\n",
       "mean      0.504729    -0.388165\n",
       "std       0.355107     1.499346\n",
       "min      -0.925070    -2.837888\n",
       "25%       0.389721    -1.559228\n",
       "50%       0.591392    -1.129903\n",
       "75%       0.746583     0.578621\n",
       "max       1.195399     3.096964"
      ]
     },
     "execution_count": 143,
     "metadata": {},
     "output_type": "execute_result"
    }
   ],
   "source": [
    "df.describe()"
   ]
  },
  {
   "cell_type": "code",
   "execution_count": 135,
   "metadata": {},
   "outputs": [
    {
     "data": {
      "text/plain": [
       "1024"
      ]
     },
     "execution_count": 135,
     "metadata": {},
     "output_type": "execute_result"
    }
   ],
   "source": [
    "len(df)"
   ]
  },
  {
   "cell_type": "code",
   "execution_count": 136,
   "metadata": {
    "scrolled": true
   },
   "outputs": [
    {
     "data": {
      "text/html": [
       "<div>\n",
       "<style scoped>\n",
       "    .dataframe tbody tr th:only-of-type {\n",
       "        vertical-align: middle;\n",
       "    }\n",
       "\n",
       "    .dataframe tbody tr th {\n",
       "        vertical-align: top;\n",
       "    }\n",
       "\n",
       "    .dataframe thead th {\n",
       "        text-align: right;\n",
       "    }\n",
       "</style>\n",
       "<table border=\"1\" class=\"dataframe\">\n",
       "  <thead>\n",
       "    <tr style=\"text-align: right;\">\n",
       "      <th></th>\n",
       "      <th>a</th>\n",
       "      <th>b</th>\n",
       "    </tr>\n",
       "  </thead>\n",
       "  <tbody>\n",
       "    <tr>\n",
       "      <th>0</th>\n",
       "      <td>0.397150</td>\n",
       "      <td>2.113629</td>\n",
       "    </tr>\n",
       "    <tr>\n",
       "      <th>1</th>\n",
       "      <td>0.397150</td>\n",
       "      <td>2.113629</td>\n",
       "    </tr>\n",
       "    <tr>\n",
       "      <th>2</th>\n",
       "      <td>0.397150</td>\n",
       "      <td>2.113629</td>\n",
       "    </tr>\n",
       "    <tr>\n",
       "      <th>3</th>\n",
       "      <td>0.397150</td>\n",
       "      <td>2.113629</td>\n",
       "    </tr>\n",
       "    <tr>\n",
       "      <th>4</th>\n",
       "      <td>0.397150</td>\n",
       "      <td>2.113629</td>\n",
       "    </tr>\n",
       "    <tr>\n",
       "      <th>5</th>\n",
       "      <td>0.397150</td>\n",
       "      <td>2.113629</td>\n",
       "    </tr>\n",
       "    <tr>\n",
       "      <th>6</th>\n",
       "      <td>0.397150</td>\n",
       "      <td>2.113629</td>\n",
       "    </tr>\n",
       "    <tr>\n",
       "      <th>7</th>\n",
       "      <td>0.397150</td>\n",
       "      <td>2.113629</td>\n",
       "    </tr>\n",
       "    <tr>\n",
       "      <th>8</th>\n",
       "      <td>0.967562</td>\n",
       "      <td>-0.099246</td>\n",
       "    </tr>\n",
       "  </tbody>\n",
       "</table>\n",
       "</div>"
      ],
      "text/plain": [
       "          a         b\n",
       "0  0.397150  2.113629\n",
       "1  0.397150  2.113629\n",
       "2  0.397150  2.113629\n",
       "3  0.397150  2.113629\n",
       "4  0.397150  2.113629\n",
       "5  0.397150  2.113629\n",
       "6  0.397150  2.113629\n",
       "7  0.397150  2.113629\n",
       "8  0.967562 -0.099246"
      ]
     },
     "execution_count": 136,
     "metadata": {},
     "output_type": "execute_result"
    }
   ],
   "source": [
    "df.head(9)"
   ]
  },
  {
   "cell_type": "code",
   "execution_count": null,
   "metadata": {},
   "outputs": [],
   "source": [
    "pd.crosstab(df[\"a\"], df[\"b\"], margins=True)"
   ]
  },
  {
   "cell_type": "code",
   "execution_count": 103,
   "metadata": {},
   "outputs": [
    {
     "data": {
      "text/plain": [
       "<matplotlib.axes._subplots.AxesSubplot at 0x1a218c00730>"
      ]
     },
     "execution_count": 103,
     "metadata": {},
     "output_type": "execute_result"
    },
    {
     "data": {
      "image/png": "[encoded data removed]",
      "text/plain": [
       "<Figure size 432x288 with 1 Axes>"
      ]
     },
     "metadata": {
      "needs_background": "light"
     },
     "output_type": "display_data"
    }
   ],
   "source": [
    "df.plot(kind='hist')"
   ]
  },
  {
   "cell_type": "code",
   "execution_count": 104,
   "metadata": {},
   "outputs": [
    {
     "data": {
      "text/plain": [
       "<matplotlib.axes._subplots.AxesSubplot at 0x1a218c42880>"
      ]
     },
     "execution_count": 104,
     "metadata": {},
     "output_type": "execute_result"
    },
    {
     "data": {
      "image/png": "[encoded data removed]",
      "text/plain": [
       "<Figure size 432x288 with 1 Axes>"
      ]
     },
     "metadata": {
      "needs_background": "light"
     },
     "output_type": "display_data"
    }
   ],
   "source": [
    "df.boxplot(column=\"a\",by=\"b\")\n",
    "#Very intresting, Looks like world map with plotted citys"
   ]
  },
  {
   "cell_type": "code",
   "execution_count": 193,
   "metadata": {
    "scrolled": true
   },
   "outputs": [
    {
     "name": "stderr",
     "output_type": "stream",
     "text": [
      "<ipython-input-193-4b5c029071bd>:6: SettingWithCopyWarning:\n",
      "\n",
      "\n",
      "A value is trying to be set on a copy of a slice from a DataFrame.\n",
      "Try using .loc[row_indexer,col_indexer] = value instead\n",
      "\n",
      "See the caveats in the documentation: https://pandas.pydata.org/pandas-docs/stable/user_guide/indexing.html#returning-a-view-versus-a-copy\n",
      "\n"
     ]
    },
    {
     "data": {
      "text/html": [
       "<div>\n",
       "<style scoped>\n",
       "    .dataframe tbody tr th:only-of-type {\n",
       "        vertical-align: middle;\n",
       "    }\n",
       "\n",
       "    .dataframe tbody tr th {\n",
       "        vertical-align: top;\n",
       "    }\n",
       "\n",
       "    .dataframe thead th {\n",
       "        text-align: right;\n",
       "    }\n",
       "</style>\n",
       "<table border=\"1\" class=\"dataframe\">\n",
       "  <thead>\n",
       "    <tr style=\"text-align: right;\">\n",
       "      <th></th>\n",
       "      <th>a</th>\n",
       "      <th>b</th>\n",
       "      <th>c</th>\n",
       "    </tr>\n",
       "  </thead>\n",
       "  <tbody>\n",
       "    <tr>\n",
       "      <th>0</th>\n",
       "      <td>0.397150</td>\n",
       "      <td>2.113629</td>\n",
       "      <td>1</td>\n",
       "    </tr>\n",
       "    <tr>\n",
       "      <th>8</th>\n",
       "      <td>0.967562</td>\n",
       "      <td>-0.099246</td>\n",
       "      <td>1</td>\n",
       "    </tr>\n",
       "    <tr>\n",
       "      <th>9</th>\n",
       "      <td>0.061841</td>\n",
       "      <td>-1.333110</td>\n",
       "      <td>1</td>\n",
       "    </tr>\n",
       "    <tr>\n",
       "      <th>10</th>\n",
       "      <td>0.719915</td>\n",
       "      <td>-0.151519</td>\n",
       "      <td>1</td>\n",
       "    </tr>\n",
       "    <tr>\n",
       "      <th>11</th>\n",
       "      <td>0.759443</td>\n",
       "      <td>0.761602</td>\n",
       "      <td>1</td>\n",
       "    </tr>\n",
       "    <tr>\n",
       "      <th>12</th>\n",
       "      <td>0.930847</td>\n",
       "      <td>-0.049737</td>\n",
       "      <td>1</td>\n",
       "    </tr>\n",
       "    <tr>\n",
       "      <th>13</th>\n",
       "      <td>0.505194</td>\n",
       "      <td>-0.237455</td>\n",
       "      <td>1</td>\n",
       "    </tr>\n",
       "    <tr>\n",
       "      <th>14</th>\n",
       "      <td>0.745198</td>\n",
       "      <td>0.408607</td>\n",
       "      <td>1</td>\n",
       "    </tr>\n",
       "    <tr>\n",
       "      <th>15</th>\n",
       "      <td>-0.388084</td>\n",
       "      <td>1.991229</td>\n",
       "      <td>1</td>\n",
       "    </tr>\n",
       "    <tr>\n",
       "      <th>16</th>\n",
       "      <td>0.132041</td>\n",
       "      <td>-1.257250</td>\n",
       "      <td>1</td>\n",
       "    </tr>\n",
       "    <tr>\n",
       "      <th>17</th>\n",
       "      <td>0.715182</td>\n",
       "      <td>0.502910</td>\n",
       "      <td>1</td>\n",
       "    </tr>\n",
       "    <tr>\n",
       "      <th>18</th>\n",
       "      <td>1.067695</td>\n",
       "      <td>-2.617924</td>\n",
       "      <td>1</td>\n",
       "    </tr>\n",
       "    <tr>\n",
       "      <th>19</th>\n",
       "      <td>0.897974</td>\n",
       "      <td>0.093803</td>\n",
       "      <td>1</td>\n",
       "    </tr>\n",
       "    <tr>\n",
       "      <th>20</th>\n",
       "      <td>0.636612</td>\n",
       "      <td>-1.438281</td>\n",
       "      <td>1</td>\n",
       "    </tr>\n",
       "    <tr>\n",
       "      <th>21</th>\n",
       "      <td>0.690307</td>\n",
       "      <td>0.047801</td>\n",
       "      <td>1</td>\n",
       "    </tr>\n",
       "    <tr>\n",
       "      <th>23</th>\n",
       "      <td>0.105732</td>\n",
       "      <td>2.183337</td>\n",
       "      <td>1</td>\n",
       "    </tr>\n",
       "    <tr>\n",
       "      <th>24</th>\n",
       "      <td>0.713595</td>\n",
       "      <td>0.249422</td>\n",
       "      <td>1</td>\n",
       "    </tr>\n",
       "    <tr>\n",
       "      <th>25</th>\n",
       "      <td>0.900091</td>\n",
       "      <td>0.012140</td>\n",
       "      <td>1</td>\n",
       "    </tr>\n",
       "    <tr>\n",
       "      <th>26</th>\n",
       "      <td>0.895171</td>\n",
       "      <td>0.118103</td>\n",
       "      <td>1</td>\n",
       "    </tr>\n",
       "    <tr>\n",
       "      <th>27</th>\n",
       "      <td>-0.479093</td>\n",
       "      <td>-1.030723</td>\n",
       "      <td>1</td>\n",
       "    </tr>\n",
       "    <tr>\n",
       "      <th>28</th>\n",
       "      <td>1.113377</td>\n",
       "      <td>0.354002</td>\n",
       "      <td>1</td>\n",
       "    </tr>\n",
       "    <tr>\n",
       "      <th>37</th>\n",
       "      <td>-0.065909</td>\n",
       "      <td>-0.672521</td>\n",
       "      <td>1</td>\n",
       "    </tr>\n",
       "    <tr>\n",
       "      <th>38</th>\n",
       "      <td>1.195399</td>\n",
       "      <td>0.291088</td>\n",
       "      <td>1</td>\n",
       "    </tr>\n",
       "    <tr>\n",
       "      <th>39</th>\n",
       "      <td>0.635394</td>\n",
       "      <td>0.490197</td>\n",
       "      <td>1</td>\n",
       "    </tr>\n",
       "    <tr>\n",
       "      <th>40</th>\n",
       "      <td>0.547269</td>\n",
       "      <td>-1.981397</td>\n",
       "      <td>1</td>\n",
       "    </tr>\n",
       "    <tr>\n",
       "      <th>41</th>\n",
       "      <td>0.128590</td>\n",
       "      <td>2.348236</td>\n",
       "      <td>1</td>\n",
       "    </tr>\n",
       "    <tr>\n",
       "      <th>42</th>\n",
       "      <td>0.726237</td>\n",
       "      <td>0.726052</td>\n",
       "      <td>1</td>\n",
       "    </tr>\n",
       "    <tr>\n",
       "      <th>128</th>\n",
       "      <td>0.709298</td>\n",
       "      <td>-1.287685</td>\n",
       "      <td>1</td>\n",
       "    </tr>\n",
       "    <tr>\n",
       "      <th>129</th>\n",
       "      <td>0.710218</td>\n",
       "      <td>-1.294488</td>\n",
       "      <td>1</td>\n",
       "    </tr>\n",
       "    <tr>\n",
       "      <th>130</th>\n",
       "      <td>0.592408</td>\n",
       "      <td>-2.066609</td>\n",
       "      <td>1</td>\n",
       "    </tr>\n",
       "  </tbody>\n",
       "</table>\n",
       "</div>"
      ],
      "text/plain": [
       "            a         b  c\n",
       "0    0.397150  2.113629  1\n",
       "8    0.967562 -0.099246  1\n",
       "9    0.061841 -1.333110  1\n",
       "10   0.719915 -0.151519  1\n",
       "11   0.759443  0.761602  1\n",
       "12   0.930847 -0.049737  1\n",
       "13   0.505194 -0.237455  1\n",
       "14   0.745198  0.408607  1\n",
       "15  -0.388084  1.991229  1\n",
       "16   0.132041 -1.257250  1\n",
       "17   0.715182  0.502910  1\n",
       "18   1.067695 -2.617924  1\n",
       "19   0.897974  0.093803  1\n",
       "20   0.636612 -1.438281  1\n",
       "21   0.690307  0.047801  1\n",
       "23   0.105732  2.183337  1\n",
       "24   0.713595  0.249422  1\n",
       "25   0.900091  0.012140  1\n",
       "26   0.895171  0.118103  1\n",
       "27  -0.479093 -1.030723  1\n",
       "28   1.113377  0.354002  1\n",
       "37  -0.065909 -0.672521  1\n",
       "38   1.195399  0.291088  1\n",
       "39   0.635394  0.490197  1\n",
       "40   0.547269 -1.981397  1\n",
       "41   0.128590  2.348236  1\n",
       "42   0.726237  0.726052  1\n",
       "128  0.709298 -1.287685  1\n",
       "129  0.710218 -1.294488  1\n",
       "130  0.592408 -2.066609  1"
      ]
     },
     "execution_count": 193,
     "metadata": {},
     "output_type": "execute_result"
    }
   ],
   "source": [
    "df_new = df.copy\n",
    "df_new = df.drop_duplicates()\n",
    "df_new1 = df.groupby('a').count()\n",
    "df_new1.head()\n",
    "len(df_new1[\"b\"].tolist())\n",
    "df_new[\"c\"] =  df_new1[\"b\"].tolist()\n",
    "df_new.head(30)"
   ]
  },
  {
   "cell_type": "code",
   "execution_count": 166,
   "metadata": {},
   "outputs": [],
   "source": [
    "df[['a', 'b']] = scaler.fit_transform(df[['a', 'b']])\n",
    "import plotly.express as px\n",
    "\n",
    "fig = px.scatter(df, x=\"a\", y=\"b\")"
   ]
  },
  {
   "cell_type": "code",
   "execution_count": 167,
   "metadata": {},
   "outputs": [
    {
     "data": {
      "application/vnd.plotly.v1+json": {
       "config": {
        "plotlyServerURL": "https://plot.ly"
       },
       "data": [
        {
         "hovertemplate": "a=%{x}<br>b=%{y}<extra></extra>",
         "legendgroup": "",
         "marker": {
          "color": "#636efa",
          "symbol": "circle"
         },
         "mode": "markers",
         "name": "",
         "showlegend": false,
         "type": "scattergl",
         "x": [
          0.6235506623394471,
          0.6235506623394471,
          0.6235506623394471,
          0.6235506623394471,
          0.6235506623394471,
          0.6235506623394471,
          0.6235506623394471,
          0.6235506623394471,
          0.8925534195601861,
          0.4654210866409435,
          0.7757648946086728,
          0.7944061515459366,
          0.8752389919850737,
          0.6745038337280732,
          0.7876880610257564,
          0.2532390717787569,
          0.49852692937778004,
          0.773532652169431,
          0.9397755760212626,
          0.8597361451143395,
          0.7364797573517478,
          0.761802037530761,
          0.2532390717787569,
          0.4861198604874414,
          0.7727844684896538,
          0.8607345565032183,
          0.8584143146472436,
          0.21032002077276696,
          0.9613190688133747,
          0.6235506623394471,
          0.6235506623394471,
          0.6235506623394471,
          0.6235506623394471,
          0.6235506623394471,
          0.6235506623394471,
          0.6235506623394471,
          0.6235506623394471,
          0.4051752523003642,
          1,
          0.7359052616954573,
          0.6943460044633532,
          0.4968994589214856,
          0.7787460752778892,
          0.6235506623394471,
          0.6235506623394471,
          0.6235506623394471,
          0.6235506623394471,
          0.6235506623394471,
          0.6235506623394471,
          0.6235506623394471,
          0.6235506623394471,
          0.6235506623394471,
          0.6235506623394471,
          0.6235506623394471,
          0.6235506623394471,
          0.6235506623394471,
          0.6235506623394471,
          0.6235506623394471,
          0.6235506623394471,
          0.6235506623394471,
          0.6235506623394471,
          0.6235506623394471,
          0.6235506623394471,
          0.6235506623394471,
          0.6235506623394471,
          0.6235506623394471,
          0.6235506623394471,
          0.6235506623394471,
          0.6235506623394471,
          0.6235506623394471,
          0.6235506623394471,
          0.6235506623394471,
          0.6235506623394471,
          0.6235506623394471,
          0.6235506623394471,
          0.6235506623394471,
          0.6235506623394471,
          0.6235506623394471,
          0.6235506623394471,
          0.6235506623394471,
          0.6235506623394471,
          0.6235506623394471,
          0.6235506623394471,
          0.6235506623394471,
          0.6235506623394471,
          0.6235506623394471,
          0.6235506623394471,
          0.6235506623394471,
          0.6235506623394471,
          0.6235506623394471,
          0.6235506623394471,
          0.6235506623394471,
          0.6235506623394471,
          0.6235506623394471,
          0.6235506623394471,
          0.6235506623394471,
          0.6235506623394471,
          0.6235506623394471,
          0.6235506623394471,
          0.6235506623394471,
          0.6235506623394471,
          0.6235506623394471,
          0.6235506623394471,
          0.6235506623394471,
          0.6235506623394471,
          0.6235506623394471,
          0.6235506623394471,
          0.6235506623394471,
          0.6235506623394471,
          0.6235506623394471,
          0.6235506623394471,
          0.6235506623394471,
          0.6235506623394471,
          0.6235506623394471,
          0.6235506623394471,
          0.6235506623394471,
          0.6235506623394471,
          0.6235506623394471,
          0.6235506623394471,
          0.6235506623394471,
          0.6235506623394471,
          0.6235506623394471,
          0.6235506623394471,
          0.6235506623394471,
          0.6235506623394471,
          0.6235506623394471,
          0.6235506623394471,
          0.6235506623394471,
          0.7707580296166613,
          0.7711918016611989,
          0.7156334689417236,
          0.7718889588838996,
          0.7817775278539849,
          0.73322778748056,
          0.7131164781218642,
          0.6702558575967597,
          0.7458942330011396,
          0.7849521563299736,
          0.7587047504499713,
          0.7070264563219659,
          0.8268036602852786,
          0.7560437348612473,
          0.7568042743005015,
          0.8056750286233902,
          0.7643535961815233,
          0.6485576820142492,
          0.783701866653437,
          0.7114505256055195,
          0.6117286528081577,
          0.6508573623773538,
          0.7801922650493387,
          0.7056831683336411,
          0.7644375398909469,
          0.6665198909335419,
          0.6830548681550862,
          0.8114917617737891,
          0.726099033015627,
          0.5880295044218057,
          0.6831289555525605,
          0.6094059115046553,
          0.7719811554861036,
          0.6082708793707203,
          0.7315610332546307,
          0.7551926493983454,
          0.6546732170426859,
          0.7134374920713281,
          0.6847841557285971,
          0.759710565862659,
          0.7437838504187235,
          0.6802645886857275,
          0.7631650853023715,
          0.7066173486369948,
          0.7695374031947468,
          0.7335932255728759,
          0.7547539256181395,
          0.789749963758011,
          0.7467362638616768,
          0.6793452164299911,
          0.7771114365947226,
          0.6558831382836794,
          0.6872501672507673,
          0.765475470846397,
          0.8599048814021581,
          0.5885587742256595,
          0.7814507604592684,
          0.757662763787212,
          0.7896947872748505,
          0.7089318842071042,
          0.724686609365496,
          0.7762183792771089,
          0.6171388248805005,
          0.7165676492450774,
          0.7957584941366262,
          0.7449575532502581,
          0.5987247347119407,
          0.7146062431671943,
          0.7646886164690202,
          0.5890830922938449,
          0.7275731411443679,
          0.5962348605397884,
          0.717758659571757,
          0.5871891241398246,
          0.7399317773439325,
          0.6925944576590288,
          0.3361641855955802,
          0.7070412643695834,
          0.7797527395595485,
          0.7006006125249862,
          0.7504656753700575,
          0.7246684530013792,
          0.5556756181157316,
          0.789203386459012,
          0.7911631891177263,
          0.7613690671958077,
          0.9397755760212626,
          0.8282102833307696,
          0.7910998069011728,
          0.7134703621642877,
          0.7781181008763818,
          0.626816638548668,
          0.8759608607267282,
          0.839675060503136,
          0.7948300201191378,
          0.7661512177072559,
          0.6051694894232342,
          0.773032243910615,
          0.7125090180538397,
          0.6870797803843924,
          0.6713843345758576,
          0.7881128256273167,
          0.7333734628279807,
          0.7913360282722415,
          0.7006952614153307,
          0.8411656744174378,
          0.7342014401910975,
          0.6383752629017945,
          0.5488645764431505,
          0.5185154356919033,
          0.7310128525364631,
          0.7389572757644232,
          0.5933738419894546,
          0.6423499503836088,
          0.7556626398523423,
          0.7955033146918564,
          0.789629754479741,
          0.7221103391957797,
          0.7695546635305046,
          0.8480178862351464,
          0.7234790932532555,
          0.7147050420836225,
          0.6617451444459023,
          0.7461485635769378,
          0.6980581084765888,
          0.6997388218811635,
          0.7803445427109839,
          0.5391546472322204,
          0.7670845963010253,
          0.6198788796023672,
          0.24336238697427545,
          0.7742742806943712,
          0.7446604491101638,
          0.7761682016890041,
          0.8668023662316906,
          0.5879497107384661,
          0.6064724089760161,
          0.8022995483168203,
          0.5468875606080656,
          0.8105197124824202,
          0.7898997419721283,
          0.47495544145289403,
          0.5109224442182262,
          0.7156030039775172,
          0.6764331242631937,
          0.1496404615470373,
          0.8130457579046444,
          0.7493305960767352,
          0.5780859476061094,
          0.7810046326552538,
          0.7949748937569744,
          0.16140399343805423,
          0.8569689265853785,
          0.81329433503519,
          0.15685150914283763,
          0.748506721580315,
          0.773532652169431,
          0.5562904822075649,
          0.7213514503350817,
          0.7022064368225025,
          0.8224552818183679,
          0.6871604229367038,
          0.734888741101849,
          0.5985815116526603,
          0.7994409348952398,
          0.77085928082123,
          0.6864468070878296,
          0.6426684648855447,
          0.525305397118354,
          0.685995774707534,
          0.6051743939995151,
          0.7428216574393038,
          0.730631757527558,
          0.7183340040970191,
          0.24851124888149728,
          0.5431763054638018,
          0.8024082035451976,
          0.8342509292521475,
          0.6875719829098155,
          0.777414341339457,
          0.8224190634089089,
          0.7279279212151504,
          0.8378642815083422,
          0.8688691263808388,
          0.7104093406523446,
          0.7795559905956637,
          0.6865357025329213,
          0.894040779476763,
          0.7246281788846108,
          0.7418849776884224,
          0.6888724501744569,
          0.7850336477512566,
          0.5838836283640325,
          0.6675676782009412,
          0.7434784933858489,
          0.8170558620863333,
          0.7196147587377622,
          0.87540442711578,
          0.4473705481892069,
          0.7521011157628084,
          0.5361923774773181,
          0.7883630533364183,
          0.43519413586223354,
          0.5847503707435235,
          0.5448874366731958,
          0.8050610134005286,
          0.6441097029213261,
          0.7951831496113644,
          0.8005397486197157,
          0.7109204540920815,
          0.5965114503464,
          0.8750422901805763,
          0.6262026233258065,
          0.5234493451117362,
          0.7735458567978797,
          0.5492934439114072,
          0.7709588814472425,
          0.7765089282623663,
          0.826932877006526,
          0.8338945457621963,
          0.7953493864516552,
          0.724265145921048,
          0.7778719760339767,
          0.7987882489747786,
          0.7033209074635673,
          0.8572504681276583,
          0.8552199263879692,
          0.41849985423033387,
          0.8373086967663659,
          0.7694188916544202,
          0.5819592424051929,
          0.8108053097320094,
          0.7720371336788483,
          0.6806325262255711,
          0.5950537536844451,
          0.5806193027333676,
          0.7501709763587163,
          0.767769397764249,
          0.8270752511968346,
          0.5891867957865541,
          0.7554609863121766,
          0.8584143146472436,
          0.5438725666581434,
          0.8093006894796746,
          0.6154728723641558,
          0.6287970027002523,
          0.684186599131909,
          0.7364797573517478,
          0.8506402311262711,
          0.8322467024505811,
          0.6517067972616998,
          0.8212371076845939,
          0.8267040596592661,
          0.8118366383732352,
          0.8486302508794519,
          0.15180517174364194,
          0.8656261639526284,
          0.800506878526756,
          0.13164858937312257,
          0.5234666054474941,
          0.8045177844180292,
          0.7229317614040596,
          0.8967742318844053,
          0.7724964189519242,
          0.12617338450567012,
          0.9697416882287245,
          0.4869967892945928,
          0.5884863374067413,
          0.5634455516106205,
          0.6848730511736888,
          0.6973617529634724,
          0.7582685261172932,
          0.4654210866409435,
          0.7021191919559668,
          0.22110905108427453,
          0.8334739311867199,
          0.7610274917534738,
          0.5988819169498667,
          0.4253988010008732,
          0.5773071574839638,
          0.49039476462891274,
          0.7026410105766245,
          0.7373999784764557,
          0.4588557925356688,
          0.6919672378077186,
          0.693043037751184,
          0.7968515544158495,
          0.7826378565568008,
          0.8056651251520538,
          0.664831726345771,
          0.7277624389250565,
          0.7133378914453155,
          0.699171730248682,
          0.8168369010510226,
          0.8218083021837721,
          0.8103098060494742,
          0.7724824126138913,
          0.6548584119566779,
          0.8969602285079818,
          0.8470597961224233,
          0.7945707849670588,
          0.749334746102819,
          0.8048156902677079,
          0.632508682279002,
          0.6484366710263949,
          0.4823928541078138,
          0.7836714488486178,
          0.6090519803028445,
          0.7146326052647043,
          0.7420463099524324,
          0.7876880610257564,
          0.6412593423925259,
          0.785995039021092,
          0.36425226952193496,
          0.5101530859735438,
          0.7288835118803458,
          0.8370173460715241,
          0.7976606208646524,
          0.7832697923468427,
          0.8700403769242329,
          0.9327200600848322,
          0.6642243134371337,
          0.6941089342233129,
          0.5198170347818403,
          0.9272441006671828,
          0.8961314022758933,
          0.7109006943087959,
          0.726143457158479,
          0.8601904786517472,
          0.7279065108533087,
          0.819871607624843,
          0.32484678150857793,
          0.8309215236669858,
          0.8031251205511839,
          0.9317052372291673,
          0.7838871087268164,
          0.7249384876531537,
          0.6957073544970203,
          0.6521405693062374,
          0.7944201107245824,
          0.7038501301080338,
          0.9629092361943017,
          0.8923196976366452,
          0.7727844684896538,
          0.1566975809026364,
          0.52220730832798,
          0.5210969405536117,
          0.7590982012183535,
          0.2108616463360976,
          0.5235301291422094,
          0.5996391552320087,
          0.7262866802177596,
          0.38583853587834316,
          0.7956037641868408,
          0.7625502212105382,
          0.6146991754558404,
          0.6268956776818106,
          0.7771361481136765,
          0.8776819425668461,
          0.8127609623646397,
          0.7129518447007421,
          0.8484401513891789,
          0.7974194949173028,
          0.7894272992299911,
          0.8051515594241764,
          0.7758932624609487,
          0.6227250901050835,
          0.7014920192640439,
          0.7254775666095693,
          0.7694526106163516,
          0.4953611668666068,
          0.5519906779095904,
          0.8633157784086027,
          0.5258881456674247,
          0.9284655287986816,
          0.8213885364772675,
          0.1495070947997061,
          0.8328031360615291,
          0.30564031931432517,
          0.7271081024260393,
          0.5844811849607205,
          0.7381234977966664,
          0.5855224170732829,
          0.7728882191417502,
          0.5030359798772781,
          0.6494926640271873,
          0.86566813580734,
          0.8679982811346512,
          0.9165694790293053,
          0.7294168845508961,
          0.5365824799292006,
          0.8366634148697133,
          0.7050493933274938,
          0.743488349697798,
          0.551655704781481,
          0.6109261415141918,
          0.5741827537554671,
          0.5312958182922398,
          0.7176327440076218,
          0.8938234690200082,
          0.745394626451908,
          0.7038946014102733,
          0.8513554975537012,
          0.8179595774254804,
          0.6373620434652983,
          0.7410988307018553,
          0.43660618223726594,
          0.7910676913584103,
          0.7532196892705698,
          0.5811337173302167,
          0.7642087225436869,
          0.29177512932754585,
          0.5705586963183517,
          0.7196237661807396,
          0.729565861055429,
          0.48974599293759885,
          0.7520484387271757,
          0.8177875399805496,
          0.7697695216991189,
          0.6629666197367885,
          0.27473116083869387,
          0.47586972049480014,
          0.7938001062595317,
          0.6896239350113462,
          0.6940587094758208,
          0.7518328260083644,
          0.8673900665164296,
          0.7532262915847941,
          0.17336097313584364,
          0.7025595663147288,
          0.6880279670257793,
          0.8195538948324914,
          0.812625143329168,
          0.535062249919664,
          0.8028222158064497,
          0.684221166962812,
          0.7667043501610918,
          0.6426001780927103,
          0.8026971019518989,
          0.5060724785078167,
          0.6518714306828218,
          0.8145051051451553,
          0.290114977415841,
          0.614913184755483,
          0.8037729018953642,
          0.8263912986025825,
          0.9047877907741715,
          0.8859432768775733,
          0.8436744595039041,
          0.6085869415845159,
          0.2476840260685775,
          0.5761811799523936,
          0.6497256314005311,
          0.8103427233018212,
          0.7735425556407675,
          0.7504788328391188,
          0.6301978723004906,
          0.6958217631706503,
          0.7757648946086728,
          0.8474392405527723,
          0.1784369266302741,
          0.7446414910364625,
          0.7958136234603994,
          0.2261356287001845,
          0.7859193010450616,
          0.5880739757240452,
          0.7040987072385794,
          0.5575777920031451,
          0.7612884246434963,
          0.9108720591288172,
          0.805541661876059,
          0.8858115607087982,
          0.8012871305899084,
          0.8281995781498488,
          0.8462572848284573,
          0.8797569084493873,
          0.2910252950692126,
          0.6416799569680023,
          0.794336167015159,
          0.7946201136861919,
          0.9234150885327895,
          0.8918818227254108,
          0.7894421072776086,
          0.6088001020151868,
          0.6768175204292108,
          0.761802037530761,
          0.5954183429077895,
          0.5787434437840768,
          0.33000823497221327,
          0.8549276796647685,
          0.6972547483136511,
          0.8113452375573966,
          0.7865744864130505,
          0.4080302816085087,
          0.3017558948998349,
          0.7115821946149075,
          0.8118415901089034,
          0.8273007673869824,
          0.5277812177930861,
          0.8169414534127033,
          0.7916134197884375,
          0.6544690640549925,
          0.7786135573995296,
          0.7442398345346874,
          0.7953625910801039,
          0.6441780368735478,
          0.6059555420910265,
          0.7231720856418247,
          0.8680576076438955,
          0.6254783022960114,
          0.3693692516833308,
          0.5938446341530359,
          0.6935442948789716,
          0.8629560937615395,
          0.8447271513475844,
          0.5361059343203668,
          0.07830189044063185,
          0.7926628576343928,
          0.7235054553507655,
          0.767762842609412,
          0.8125946783649616,
          0.775806017594413,
          0.22851024532973518,
          0.8181554775203934,
          0.7696814279636116,
          0.7225720767569962,
          0.8279609044906395,
          0.7459502111938843,
          0.18937743289384246,
          0.77228156078331,
          0.7233095552558525,
          0.8082990240930709,
          0.8183900483129061,
          0.7915796536671188,
          0.8359991748993596,
          0.4707596707633398,
          0.4051752523003642,
          0.7904775387855307,
          0.6879448250259401,
          0.7534246439678476,
          0.3003385195140358,
          0.7757130192826247,
          0.6073408019340631,
          0.8072890586542995,
          0.8158006206741284,
          0.6524887470627956,
          0.8511069204231556,
          0.7969717165347321,
          0.821000084603941,
          0.37964448047002447,
          0.4692308105859243,
          0.7465691781524142,
          0.20850693096799455,
          0.7459362048558513,
          0.3934094567587561,
          0.5881225498929813,
          0.8244940764508375,
          0.5645723780111623,
          0.8133824287706973,
          0.7665463190541941,
          0.5754190370939707,
          0.8052330036860722,
          0.7313955509645369,
          0.5642225496760481,
          0.2993615184869986,
          0.8156581993244325,
          0.5938355795506711,
          0.8262900473980139,
          0.7628473253506325,
          0.7816376059518166,
          0.6103640016173784,
          0.7412997768512112,
          0.776958357223493,
          0.8892635807009829,
          0.6541381937935795,
          0.8172640707813359,
          0.12316013545307869,
          0.7395729415658409,
          0.8214404118033156,
          0.7750043551694188,
          0.8861358758153741,
          0.7866682864344231,
          0.5907242861318485,
          0.14862969439868146,
          0.738256015675026,
          0.8018172021033465,
          0.8099031978120309,
          0.539831242962051,
          0.4112469290985965,
          0.7789888989631821,
          0.5472373417837926,
          0.8225129105896689,
          0.16602396281652082,
          0.7638078677514961,
          0.8796202877043311,
          0.38760121229807415,
          0.6827783255078619,
          0.5280289932140472,
          0.30090565830590466,
          0.7369479557490265,
          0.7714757954916194,
          0.7386691790673062,
          0.7512015032903577,
          0.48756680480908804,
          0.28866303419913886,
          0.7486499446395953,
          0.6343964725532838,
          0.24179396007090131,
          0.7625526734986787,
          0.7792309209388908,
          0.29727254626642435,
          0.735854235238381,
          0.9325241599899194,
          0.7914833541982184,
          0.3697403017427375,
          0.6964094634553892,
          0.9252801951417721,
          0.8591814092413348,
          0.9247953966401579,
          0.26951594567351767,
          0.6194294506412404,
          0.7258150391852066,
          0.7126983158345284,
          0.7842220818549259,
          0.8047465546059018,
          0.6304505994571201,
          0.7513529320830312,
          0.8167183895106961,
          0.6459377894112651,
          0.7938875869230038,
          0.5071780360246788,
          0.7165306291260338,
          0.8015653709750761,
          0.7345241047191173,
          0.9025629995181255,
          0.09609866422921803,
          0.5661016626230637,
          0.4949065032134879,
          0.9058043113677798,
          0.9070784636942987,
          0.5843165986989858,
          0.7347587226710173,
          0.7936175994306165,
          0.6896346401922671,
          0.6757417204857455,
          0.8343999057566804,
          0.7664936420185615,
          0.7514097591447477,
          0.6725070109503155,
          0.7832385256730519,
          0.8728841351388086,
          0.7597023601292658,
          0.7100364985362199,
          0.718313442604149,
          0.6220863633632681,
          0.8568767771425618,
          0.3803904476585978,
          0.6661610079960628,
          0.7351916458465833,
          0.6247202623042851,
          0.40510559788529765,
          0.8838320454261857,
          0.8213399623083314,
          0.479563102231271,
          0.705303723903292,
          0.5628545973281567,
          0.561251225318781,
          0.6706945813769656,
          0.7023825771341299,
          0.763087696747785,
          0.477539115646419,
          0.7562149234372064,
          0.7601015171835133,
          0.3826847518515483,
          0.8137980444511181,
          0.747863891971803,
          0.8205482033546737,
          0.8607345565032183,
          0.7758455371609843,
          0.7748660838458067,
          0.7762916649649989,
          0.19250476050435267,
          0.6501709103355741,
          0.7801445397493744,
          0.42005375604241446,
          0.8021193051384965,
          0.7939773312370673,
          0.5444462606048494,
          0.5865175273050496,
          0.7841537479027043,
          0.7907129584470151,
          0.8950481983086193,
          0.7930826233408975,
          0.8592966667839365,
          0.9867762719995007,
          0.5860985633081293,
          0.6411784168838908,
          0.9115897778443879,
          0.4729075450586725,
          0.7559622434399643,
          0.7207645517599272,
          0.22554481589588263,
          0.6563942517234164,
          0.26809904188159167,
          0.6467065345839124,
          0.5939450364886328,
          0.8904339823754053,
          0.31007155682475096,
          0.7693398525212778,
          0.8092480596034293,
          0.8162055783330158,
          0.6225983256719766,
          0.7432932984718568,
          0.8413047946100218,
          0.5460405780118602,
          0.7785526746305039,
          0.6670878314349952,
          0.7197867490233056,
          0.6201035469235433,
          0.7214938245253903,
          0.6348203411264851,
          0.8040815129259637,
          0.7569787168741853,
          0.768093712870825,
          0.6808720487537521,
          0.8487059888554823,
          0.7514369229518421,
          0.479857329648739,
          0.7470827910396788,
          0.30894968215987734,
          0.6443722863899046,
          0.5103909579231686,
          0.8296375621879051,
          0.49491456746871904,
          0.5148438887517599,
          0.7443806053058273,
          0.7747615314841259,
          0.8571245054041358,
          0.5279227902738103,
          0.7679315317378435,
          0.24688646651027987,
          0.7271336156545776,
          0.48700560810002097,
          0.8397779622862609,
          0.6975214346489262,
          0.6382756622757819,
          0.7809165860791338,
          0.8133124442399196,
          0.5254223995582864,
          0.54663898347752,
          0.7409178801327218,
          0.7399655434652511,
          0.7658145940005904,
          0.7469033495709392,
          0.7053473463365598,
          0.5249564176522115,
          0.6400905912966597,
          0.7431426242293804,
          0.4249048535781195,
          0.9348263869599391,
          0.70303035847831,
          0.783561991910656,
          0.6419664030865632,
          0.8798137355111038,
          0.8677275390920668,
          0.6731218750421488,
          0.5150834112799407,
          0.6682787946022876,
          0.7472794928441762,
          0.568312494700464,
          0.7411631561061551,
          0.7838615954982782,
          0.7581112967199799,
          0.532388878571463,
          0.589204056122312,
          0.8010542103759519,
          0.20443990540581458,
          0.585878800563234,
          0.7849118350538179,
          0.06569467711052168,
          0.7557638910569108,
          0.6197759778192424,
          0.5379348225198902,
          0.7552445247243936,
          0.501508062887609,
          0.562122872274553,
          0.5164433936913757,
          0.813457317877756,
          0.8517044770198438,
          0.7222412064955832,
          0.8535803359691345,
          0.5725900869270124,
          0.8059384138015533,
          0.8015859324679462,
          0.41247444079105916,
          0.7469000484138271,
          0.577875097985417,
          0.8200214329983477,
          0.7832162664422384,
          0.307420397547976,
          0.7118505315287387,
          0.9208635298820271,
          0.40015876679333995,
          0.7953378795611499,
          0.903302128595538,
          0.7443789075678839,
          0.8300474244230733,
          0.5270437392942297,
          0.28154253262698636,
          0.4325224622519759,
          0.46689717546395176,
          0.09754730628880803,
          0.2512282426629662,
          0.7949271212976228,
          0.6966497876931543,
          0.7203843056199938,
          0.8595904697669186,
          0.7751903517929952,
          0.28766301939109123,
          0.5197984068238503,
          0.5821181223810624,
          0.840022153593786,
          0.7792317226484751,
          0.7423525158542787,
          0.5563538644241184,
          0.6258503427025518,
          0.14565091885821846,
          0.5843881866489323,
          0.7468909938114624,
          0.4070169206938505,
          0.39778344277297956,
          0.6995615025848533,
          0.6964456818648483,
          0.7864929478323801,
          0.7564824114820659,
          0.7264734785509204,
          0.9503802131283625,
          0.3579751192731645,
          0.7926710633677859,
          0.7883342389507679,
          0.3633452530256756,
          0.7584216054885228,
          0,
          0.8243689625962867,
          0.7401911068147862,
          0.6185676599974177,
          0.794541923422021,
          0.5394188341199677,
          0.6850722524257139,
          0.5836259966311221,
          0.5231604938644223,
          0.8890586260037052,
          0.6659988740224685,
          0.6223431933865939,
          0.690736755073855,
          0.9061801245253055,
          0.8230347292103266,
          0.7386971445839849,
          0.7825454713170477,
          0.7568569513361341,
          0.7691208914859669,
          0.7053893181912716,
          0.8289263986271715,
          0.2677821779582117,
          0.5982983666912116,
          0.8069318734547639,
          0.8357695086831279,
          0.8252496641544234,
          0.5606997434435013,
          0.3755149215602627,
          0.12402598180421065,
          0.5636406499959491,
          0.6383530508303684,
          0.08367909810124047,
          0.2442015882715736,
          0.9359498650439814,
          0.3774956629869455,
          0.7893309997610907,
          0.488582806649436,
          0.3672996148115563,
          0.300953383605869,
          0.2341467353018102,
          0.22441704630759451,
          0.8454202057035884,
          0.377440910938271,
          0.695258774404865,
          0.48512569344342105,
          0.6570436836461526,
          0.6737391914221226,
          0.33243647182514285,
          0.4811387916802919,
          0.7470136553778727,
          0.8342789419282135,
          0.7906890486376457,
          0.8639075815600383,
          0.936527661857384
         ],
         "xaxis": "x",
         "y": [
          0.8343116502779413,
          0.8343116502779413,
          0.8343116502779413,
          0.8343116502779413,
          0.8343116502779413,
          0.8343116502779413,
          0.8343116502779413,
          0.8343116502779413,
          0.4614506840978893,
          0.253549271082125,
          0.4526429503116202,
          0.6065003908100562,
          0.469792795520913,
          0.43816294403547423,
          0.5470219444716098,
          0.8136877169851773,
          0.2663315097777327,
          0.5629116403973248,
          0.037063061585154156,
          0.493978771906779,
          0.2358285102423103,
          0.4862276271605339,
          0.8136877169851773,
          0.8460572667316881,
          0.5201998620892408,
          0.4802187835370598,
          0.49807312815395377,
          0.30450032759028683,
          0.5378212270283251,
          0.8343116502779413,
          0.8343116502779413,
          0.8343116502779413,
          0.8343116502779413,
          0.8343116502779413,
          0.8343116502779413,
          0.8343116502779413,
          0.8343116502779413,
          0.3648561167249922,
          0.5272204747669883,
          0.5607695652212008,
          0.1443154845771733,
          0.8738420857779041,
          0.600510233413724,
          0.8343116502779413,
          0.8343116502779413,
          0.8343116502779413,
          0.8343116502779413,
          0.8343116502779413,
          0.8343116502779413,
          0.8343116502779413,
          0.8343116502779413,
          0.8343116502779413,
          0.8343116502779413,
          0.8343116502779413,
          0.8343116502779413,
          0.8343116502779413,
          0.8343116502779413,
          0.8343116502779413,
          0.8343116502779413,
          0.8343116502779413,
          0.8343116502779413,
          0.8343116502779413,
          0.8343116502779413,
          0.8343116502779413,
          0.8343116502779413,
          0.8343116502779413,
          0.8343116502779413,
          0.8343116502779413,
          0.8343116502779413,
          0.8343116502779413,
          0.8343116502779413,
          0.8343116502779413,
          0.8343116502779413,
          0.8343116502779413,
          0.8343116502779413,
          0.8343116502779413,
          0.8343116502779413,
          0.8343116502779413,
          0.8343116502779413,
          0.8343116502779413,
          0.8343116502779413,
          0.8343116502779413,
          0.8343116502779413,
          0.8343116502779413,
          0.8343116502779413,
          0.8343116502779413,
          0.8343116502779413,
          0.8343116502779413,
          0.8343116502779413,
          0.8343116502779413,
          0.8343116502779413,
          0.8343116502779413,
          0.8343116502779413,
          0.8343116502779413,
          0.8343116502779413,
          0.8343116502779413,
          0.8343116502779413,
          0.8343116502779413,
          0.8343116502779413,
          0.8343116502779413,
          0.8343116502779413,
          0.8343116502779413,
          0.8343116502779413,
          0.8343116502779413,
          0.8343116502779413,
          0.8343116502779413,
          0.8343116502779413,
          0.8343116502779413,
          0.8343116502779413,
          0.8343116502779413,
          0.8343116502779413,
          0.8343116502779413,
          0.8343116502779413,
          0.8343116502779413,
          0.8343116502779413,
          0.8343116502779413,
          0.8343116502779413,
          0.8343116502779413,
          0.8343116502779413,
          0.8343116502779413,
          0.8343116502779413,
          0.8343116502779413,
          0.8343116502779413,
          0.8343116502779413,
          0.8343116502779413,
          0.8343116502779413,
          0.8343116502779413,
          0.8343116502779413,
          0.261203328325402,
          0.26005699821616457,
          0.1299574863900575,
          0.26092778651074794,
          0.21966168863778318,
          0.13953277085711518,
          0.22988602041728956,
          0.2390587169446708,
          0.11829126533964013,
          0.2693602455892584,
          0.25270614986145234,
          0.192802655041598,
          0.11848537294710149,
          0.2516198043947985,
          0.250390237169167,
          0.20402537727812742,
          0.17034956084164793,
          0.2420536187218405,
          0.233046503397456,
          0.14876691794390706,
          0.013754192100885299,
          0.24245915534479004,
          0.22010985479605188,
          0.13353937833399193,
          0.25690327193309814,
          0.23545856001406198,
          0.1977920461846701,
          0.11763547817971004,
          0.24013475044467827,
          0.2840743267684298,
          0.21274136489055734,
          0.22268397104534565,
          0.14886692043091082,
          0.01814190020968348,
          0.24647396454206677,
          0.2124119885441464,
          0.23774650233929998,
          0.13154552925360025,
          0.1909443611436739,
          0.19963739957543009,
          0.11960287335873765,
          0.197975841825485,
          0.22439756041784625,
          0.19335023395021583,
          0.24222331123180077,
          0.22326888870900985,
          0.12059684921566038,
          0.21968580044214747,
          0.11874414939114575,
          0.18859198587651477,
          0.2374683151345095,
          0.24262709549440525,
          0.23794443481020688,
          0.23440368963514574,
          0.4768148067170129,
          0.24904454237143284,
          0.26442558200773447,
          0.22918109976922088,
          0.24663659706179045,
          0.13327472137302016,
          0.21356861377041153,
          0.1961666645660809,
          0.00958702865129385,
          0.13233072148517122,
          0.24399455999950395,
          0.2507904830118437,
          0.01927112795593705,
          0.13071032735371813,
          0.23049976777855502,
          0.2771292846305664,
          0.19114785398875295,
          0.18682075395843034,
          0.1301015674795889,
          0.2870986648294741,
          0.2540797813269965,
          0.8363790479439724,
          0.25173391001265677,
          0.24278913827747428,
          0.26813922112030963,
          0.15191651607039125,
          0.2260397242566639,
          0.16465612523067963,
          0.8340704985350604,
          0.22666671541823014,
          0.24975327103332848,
          0.12595797664656327,
          0.037063061585154156,
          0.13252776092628687,
          0.25435887841119686,
          0.2460599020120534,
          0.20272760279598528,
          0.15550432223049054,
          0.45973417974135294,
          0.4856723648257874,
          0.1363831558810123,
          0.8210280006289625,
          0.1743549342524508,
          0.2386669970090579,
          0.22304745102001194,
          0.2217737883422341,
          0.7049191147533846,
          0.2611362836925818,
          0.24309261675993826,
          0.21544839093218227,
          0.2393730634311984,
          0.11591214972759889,
          0.1961842892672444,
          0.23773357868175457,
          0.774451408429298,
          0.230530939573156,
          0.23116261492872173,
          0.12610500641936778,
          0.6924641630514686,
          0.2503596551112206,
          0.17026721675504514,
          0.2714067665777164,
          0.26809423263837195,
          0.20695886219512383,
          0.46768411628905887,
          0.5032970322901374,
          0.23638284584802816,
          0.13554795398113018,
          0.23539623327447876,
          0.19164073903506007,
          0.1653354681575569,
          0.5807685630058803,
          0.5142006058988089,
          0.27227167435537236,
          0.25242647989021594,
          0.8131760277643973,
          0.3415047019534976,
          0.2614129881309264,
          0.8500420499084358,
          0.4842856580561296,
          0.4921830069438627,
          0.27329006530979605,
          0.1686409421066647,
          0.2630431044923712,
          0.2162771057288636,
          0.2613153782897785,
          0.23189901066452806,
          0.2601211110153304,
          0.24472125035493722,
          0.23961600123366167,
          0.23979656174768563,
          0.3060304414647279,
          0.1512930801783714,
          0.22936312620007196,
          0.7088208461595439,
          0.20846895872254556,
          0.19367344333618136,
          0.2700054848878803,
          0.14286176687393276,
          0.15896860383587635,
          0.922756613121499,
          0.5485895992965217,
          0.5629116403973248,
          0.21194882622523187,
          0.22298392795750072,
          0.2132768963218024,
          0.19345610010452835,
          0.2237182511902065,
          0.2008345986835326,
          0.022206061940141852,
          0.11582982249061491,
          0.25631597847319676,
          0.23011480454004216,
          0.8346968999599721,
          0.7918169119083737,
          0.225859450186158,
          0.22254133902302276,
          0.20353485117843872,
          0.8910223108497188,
          0.24907628705306975,
          0.35098148354961617,
          0.7139362219016601,
          0.21900059384796156,
          0.5128340175738827,
          0.2101193451752903,
          0.21200763139450618,
          0.1426529495493435,
          0.23543326873638848,
          0.11781191053715168,
          0.5172499319443901,
          0.1498167839860685,
          0.22433022934150815,
          0.21623476263706237,
          0.5153922277831207,
          0.22760483478915167,
          0.2532216807952966,
          0.2186676959312417,
          0.1168267470308108,
          0.25235559354433146,
          0.24101052622639782,
          0.24298056679556174,
          0.12786654980669782,
          0.12574624433793835,
          0.4714830818707471,
          0.7840002389949917,
          0.23822292530813402,
          0.2247687069690225,
          0.22941753361886472,
          0.24773851157612614,
          0.2925818003494072,
          0.7066930089112242,
          0.2757626963056402,
          0.640989656288672,
          0.15251351491066567,
          0.21785515676851547,
          0.23713100261768938,
          0.2702560387179974,
          0.1441557164926292,
          0.6917783667206282,
          0.2266031755061002,
          0.2276304125103431,
          0.29892308694989617,
          0.21440204646032984,
          0.25548492157951563,
          0.5033148086378694,
          0.14216774792916498,
          0.24468389475027216,
          0.24620105126793046,
          0.2602449220135618,
          0.17510189469918414,
          0.20224973075994274,
          0.4776137145382082,
          0.49136118364123094,
          0.24325054823604375,
          0.4851119633573364,
          0.21668823642522267,
          0.2876127129968725,
          0.5144979174208275,
          0.2631992667585128,
          0.23622730701777858,
          0.23891549518569327,
          0.2184753743833629,
          0.24745794857509854,
          0.2581607589769208,
          0.15065196903633193,
          0.26557454065748964,
          0.4513062532102736,
          0.49807312815395377,
          0.30321695953213595,
          0.2556443189724482,
          0.2656527734371288,
          0.8113645084079935,
          0.5705312907192098,
          0.2358285102423103,
          0.5690288270690608,
          0.526901679981123,
          0.1892719016904279,
          0.18189812100466057,
          0.5348004105375898,
          0.5038410390795902,
          0.520109295388711,
          0.3063839127658845,
          0.5398336106892903,
          0.12189376436724864,
          0.9922039341702922,
          0.2977920394448226,
          0.22649201857151496,
          0.24993059642056137,
          0.46825540261119214,
          0.19362255748769758,
          0.9041295112916372,
          0.04335639417081372,
          0.2563680437949898,
          0.2807582544091577,
          0.21960640503881784,
          0.20765493679337332,
          0.5840225613698498,
          0.1590156479712958,
          0.253549271082125,
          0.2241046803455466,
          0.5612395010868341,
          0.18032773654151873,
          0.25885567095147977,
          0.2706401089267191,
          0.5867710543231033,
          0.29645249475791513,
          0.4879402055559124,
          0.2879653081178565,
          0.11985576928585451,
          0.7772834080928448,
          0.19047675052542162,
          0.8349998055554002,
          0.5111253988388995,
          0.242396929702919,
          0.2914063709486693,
          0.1914404813167721,
          0.6286023558058496,
          0.17873086447777536,
          0.17761627905017485,
          0.4961385728817788,
          0.20704912560251715,
          0.5054544574689002,
          0.24923479141621113,
          0.24674421557644807,
          0.5882026484769866,
          0.19220890817773328,
          0.23091089847491406,
          0.2207568464550188,
          0.21447997594683232,
          0.7440162791580125,
          0.18377729158015793,
          0.4776827979748915,
          0.2547309011425457,
          0.17973661821817166,
          0.5825380425636196,
          0.16128891427864328,
          0.5470219444716098,
          0.6756806454024029,
          0.2533234187930268,
          0.8168579221953355,
          0.5922747969267105,
          0.8892401603787148,
          0.5052933582644785,
          0.206148058543124,
          0.2520494528221123,
          0.45192706056177573,
          0.5515856973966193,
          0.7291984548764852,
          0.20600161850697418,
          0.7028570078676262,
          0.530868552013189,
          0.4651364876403666,
          0.4558526004791627,
          0.17907493369169547,
          0.47833585549659163,
          0.12804889638030426,
          0.14885219386416415,
          0.2666147181688967,
          0.19239652868199386,
          0.5549349803543556,
          0.5108174889067165,
          0.22658054646818176,
          0.2516045049410159,
          0.6969803832021164,
          0.19098992251264751,
          0.1485934174201199,
          0.2075076205770509,
          0.41169443405197403,
          0.5896486322052423,
          0.5201998620892408,
          0.5328774141038453,
          0.2561036564279172,
          0.8427723661670171,
          0.16389150638354544,
          0.928461809766322,
          0.28116648697109975,
          0.18107762882190637,
          0.12338770211033384,
          0.7918286560926098,
          0.4993938181175323,
          0.1637474252940141,
          0.5933252527055264,
          0.16566482765434903,
          0.5361678918923072,
          0.5075468094202309,
          0.5254286357652298,
          0.6931443821585184,
          0.536356691869877,
          0.20980437525287066,
          0.16508255538082123,
          0.5378985499285542,
          0.26382681395749624,
          0.738278512200236,
          0.24085700935039261,
          0.149769739850649,
          0.16286516240909377,
          0.7130975152810877,
          0.22168379452874004,
          0.4788643774864561,
          0.2582569197508602,
          0.5671696569909641,
          0.2682189198167759,
          0.3133971790098773,
          0.17338153177996468,
          0.33724707290108846,
          0.20065638026650845,
          0.2824239234660663,
          0.4649422452359557,
          0.2855688542481697,
          0.5643661668822632,
          0.7673049459494561,
          0.1916619021561513,
          0.16438851958643486,
          0.4730326570547905,
          0.08241038985232385,
          0.16618536292494823,
          0.27537539097012753,
          0.11520047238243025,
          0.1411384384218216,
          0.2452596967702179,
          0.2988045667319376,
          0.7893319132924013,
          0.1848154134380831,
          0.7864999136288545,
          0.2437201976581591,
          0.5877524098156174,
          0.8510419399815233,
          0.22838384321065847,
          0.17037013422608455,
          0.13405403308766367,
          0.6388919630082123,
          0.14436067525453544,
          0.5735835654480641,
          0.24600726380322446,
          0.11700317938825244,
          0.17979544023706473,
          0.21444732138578543,
          0.038207066447010496,
          0.22372529433082444,
          0.8759006542437349,
          0.25059757172731034,
          0.30685885296827264,
          0.2353856348643144,
          0.22115973768783198,
          0.5457264109887552,
          0.1856753000293655,
          0.3488600154571662,
          0.2554375741509595,
          0.4935285163957911,
          0.23327205239341758,
          0.22688196929716403,
          0.2561116094479451,
          0.5179404293188488,
          0.1608771938456296,
          0.8192105839060125,
          0.19761266514395537,
          0.19478534967440803,
          0.1236758979886341,
          0.4931444630366882,
          0.2964716190751433,
          0.5113712516253984,
          0.20402097952764592,
          0.6087333359798468,
          0.8356350193308936,
          0.15755406149612072,
          0.7043809379320032,
          0.8535563411821329,
          0.14734061457029662,
          1,
          0.1772751585195278,
          0.2621173190423405,
          0.12466695886152118,
          0.5486678152265421,
          0.5525341118845686,
          0.5107189691861587,
          0.214506733141333,
          0.35123867612950244,
          0.19371841496850034,
          0.8300798348413854,
          0.18873316883162927,
          0.11319189673529195,
          0.5166714676846892,
          0.25503026831804615,
          0.2305729793718206,
          0.4526429503116202,
          0.12710489649245532,
          0.28934955484318364,
          0.5224807612738609,
          0.5087362745533486,
          0.333556450367662,
          0.14148547316863347,
          0.28836439133684266,
          0.13418636999295885,
          0.4267378747279376,
          0.47675692827676724,
          0.514285881819066,
          0.2091350578491219,
          0.46090335793355197,
          0.16780279152350946,
          0.32303981140289184,
          0.548623702924777,
          0.5606063429648225,
          0.29250387086290475,
          0.6155057369244769,
          0.14205010389137895,
          0.5261026710622154,
          0.5083419260772181,
          0.09082701028925333,
          0.14704948685834213,
          0.01742724048200428,
          0.6192408593008986,
          0.4862276271605339,
          0.1853682662773551,
          0.2937293099319538,
          0.36547397539322124,
          0.49917874958440417,
          0.6981381879016907,
          0.22880203389725412,
          0.5318966483479859,
          0.587202471960381,
          0.2676607593476124,
          0.21764253143009926,
          0.21506608993342446,
          0.19899101450273643,
          0.2598749549356948,
          0.22975573916547612,
          0.24309939030665703,
          0.25148510854288475,
          0.15743348562468046,
          0.46084274985507645,
          0.48218402196489335,
          0.6298166235776984,
          0.18354498588709633,
          0.88049123176172,
          0.5066552960946425,
          0.23582350590555548,
          0.37546950620035635,
          0.19530440217856132,
          0.23859553777613743,
          0.4532025261487548,
          0.4964402147558042,
          0.2774083817147668,
          0.9855576694712744,
          0.46961373462295375,
          0.12393174259902401,
          0.24465860347259857,
          0.22204698805988843,
          0.2721393206004584,
          0.3090177103646251,
          0.20133071885663073,
          0.11853241708252094,
          0.8764711654834079,
          0.5003173457186568,
          0.12247015612384898,
          0.3276877618725615,
          0.13765065159834472,
          0.5770578388773409,
          0.500669418501461,
          0.5683871430399853,
          0.22456285517732505,
          0.20349222164311953,
          0.6944086427490598,
          0.3648561167249922,
          0.23951481927334875,
          0.7838620047231504,
          0.163703312992249,
          0.2776324816435199,
          0.2519627109850281,
          0.016609696982523126,
          0.23243804681646338,
          0.28796561141099314,
          0.6270772462681633,
          0.5677201677332363,
          0.5320828029354192,
          0.13377464955994528,
          0.5934608078879939,
          0.5067564612053368,
          0.14557025883238478,
          0.33538945298791256,
          0.12869293935599813,
          0.24109551570313695,
          0.275516573925242,
          0.21794338137204555,
          0.5739061682477562,
          0.21904499259324461,
          0.5752057119398623,
          0.7608830844723282,
          0.47606897519473274,
          0.5207489069146859,
          0.2979014440190627,
          0.3334243999058848,
          0.13031036795455936,
          0.17068480085536752,
          0.20515113400292823,
          0.2558287043499178,
          0.541757786596344,
          0.016183317381237627,
          0.21710610696906296,
          0.2705098108252869,
          0.47319840675397423,
          0.6246196114329651,
          0.292545927511188,
          0.9030296187315459,
          0.5082495733171056,
          0.1758518038291904,
          0.1699407890919073,
          0.45989369508161654,
          0.5400356544671608,
          0.7692038137292176,
          0.8855671119975959,
          0.48762921214350674,
          0.5041627319998725,
          0.5101943394582147,
          0.23787590741094083,
          0.301578334113246,
          0.8413137452247338,
          0.9039912938694146,
          0.5632539572508998,
          0.27586622036295294,
          0.11981167383370817,
          0.4732898664842954,
          0.374516390668789,
          0.20167596754386008,
          0.2992771479877073,
          0.03190192227863997,
          0.20408788936351646,
          0.18701278906279117,
          0.15988906480639686,
          0.24615370383937432,
          0.4476996934245576,
          0.5696114026357252,
          0.1608360302271376,
          0.15361925428844703,
          0.3409655647038501,
          0.24315438746210438,
          0.610376662442355,
          0.9068115324991065,
          0.5531031572074143,
          0.4935188615642741,
          0.20370336421508983,
          0.24552907162442658,
          0.45454003203179916,
          0.5512019136314157,
          0.4701769499777282,
          0.5309364728261818,
          0.35969854953764313,
          0.18135406366635165,
          0.8573558796508571,
          0.8618053247625839,
          0.23421637242402188,
          0.1635650787204076,
          0.6495768285661156,
          0.4765318510701294,
          0.5206903881889295,
          0.2526614309734139,
          0.5956781840101028,
          0.439367792870468,
          0.4583183231313385,
          0.18325089264225003,
          0.6074608527753782,
          0.15109016022032828,
          0.9922421322558923,
          0.19508294763994471,
          0.8476747290294869,
          0.08009892545937619,
          0.471710029385061,
          0.7797919287765269,
          0.8321707377255078,
          0.11278900550247895,
          0.8140376835656435,
          0.15160186629072697,
          0.2154883919269837,
          0.2538007179420334,
          0.17086713057935526,
          0.1665500223729237,
          0.120179265115338,
          0.5040132421827374,
          0.2422374143626554,
          0.6082589855141132,
          0.21711759840901856,
          0.8321001546727598,
          0.5278312734449807,
          0.24341375364280332,
          0.4329241785355943,
          0.12706078419069022,
          0.17619000937580181,
          0.2625858058407653,
          0.5324789374711324,
          0.5478299847861423,
          0.4666268027154306,
          0.1746313690968962,
          0.6952976454814613,
          0.8327177268974709,
          0.4301159873832751,
          0.21717052306136547,
          0.24958534773333202,
          0.4986107320882993,
          0.4822113857456674,
          0.23867580935963967,
          0.2535739726231439,
          0.28249981414870573,
          0.24173337486876673,
          0.27806624137779734,
          0.4802187835370598,
          0.6819163522920975,
          0.5274630755770775,
          0.16740284897396945,
          0.5696905789940118,
          0.1507196202554254,
          0.11281547625346167,
          0.566807929376643,
          0.2771348787039759,
          0.24179484227779618,
          0.2981634724395168,
          0.2807020946300198,
          0.26680026617005675,
          0.15921268741241146,
          0.5050869672849825,
          0.7047349989698143,
          0.46834118402001035,
          0,
          0.29274001826903057,
          0.6403926405987789,
          0.029716914274060147,
          0.2553584651911478,
          0.18622934919156542,
          0.6817137524768098,
          0.31794307133906147,
          0.2505799470261468,
          0.6478099943985127,
          0.1740608410076045,
          0.18888137807774297,
          0.12855470508415684,
          0.5618470814876542,
          0.6253512892755344,
          0.28440223719801355,
          0.30158392818665547,
          0.8128701734856961,
          0.1587186397424138,
          0.30939590005641926,
          0.4292022831098546,
          0.23171019383733957,
          0.42943666130601665,
          0.7979926004562472,
          0.6935181740998311,
          0.14756707344566816,
          0.17077595729255202,
          0.1513960144990295,
          0.8355967875460559,
          0.24633751632980794,
          0.7917874924741178,
          0.5429270490366366,
          0.5580369614583844,
          0.7730692173574527,
          0.18419314016975386,
          0.2718511247221582,
          0.2536980700648933,
          0.49953291171992753,
          0.5164165161040905,
          0.2629504652887408,
          0.7724369354156138,
          0.5527173177887288,
          0.1820804507286483,
          0.5186600596840454,
          0.7015436474881835,
          0.24784879233053883,
          0.33955953142153966,
          0.5522238430057671,
          0.481862564939273,
          0.11833244580775087,
          0.8277242244474352,
          0.8255656703442195,
          0.17351680051891433,
          0.5409240674629078,
          0.8384033779845982,
          0.7834679426905378,
          0.4547470295975684,
          0.5687518193375795,
          0.21856388543041105,
          0.2072046981320041,
          0.2321766081326639,
          0.8399374346698159,
          0.16210938961177873,
          0.12376412259216418,
          0.3356135529166656,
          0.03339001320403523,
          0.18502743219022605,
          0.21615506394059603,
          0.7803242082313623,
          0.1173972582704837,
          0.5276562901547476,
          0.2392689664868498,
          0.4381429435380735,
          0.8111321690156945,
          0.23960216769670634,
          0.7963663426574854,
          0.18126878774609462,
          0.4528035777267182,
          0.2299139402354808,
          0.8380582472446998,
          0.6955573318049156,
          0.2729124653546565,
          0.9296028490952868,
          0.8326353828108684,
          0.5347895256839075,
          0.9744031713408745,
          0.20697267888246051,
          0.19036796938707357,
          0.473725547075105,
          0.15540433659310549,
          0.2649305145314145,
          0.5926024040631575,
          0.8274213357016259,
          0.5177925233658718,
          0.534284003423573,
          0.2205280623322663,
          0.1239699743838617,
          0.2046114912647196,
          0.19245946200785047,
          0.1893016075682017,
          0.24589492739532998,
          0.4026005600408866,
          0.29410807251078397,
          0.2405588216482014,
          0.24509030755339425,
          0.31314455267665964,
          0.2106016149618144,
          0.494752944487718,
          0.5235929709052242,
          0.26554015058571634,
          0.6569826740762752,
          0.1668382182512239,
          0.7921551006053664,
          0.7047435585761156,
          0.617799576616261,
          0.21271812926636563,
          0.5121493838667327,
          0.2689123658745077,
          0.5295519396573367,
          0.489827767241524,
          0.16518547285186064,
          0.812958414938845,
          0.5141735454111714,
          0.24614696399189304,
          0.2715052862982742,
          0.27840855823137234,
          0.7229210114812629,
          0.11389516612072786,
          0.2714917560544555,
          0.4670647748543839,
          0.2987742711175092,
          0.23868726710035787,
          0.9169279424708187,
          0.20521465706543945,
          0.2218320037748538,
          0.24178660281425027,
          0.6414525321640686,
          0.6087580880697219,
          0.19223655840202536,
          0.20117046213314427,
          0.5259388590691826,
          0.14310290176719476,
          0.14162662242451052,
          0.37291658677139133,
          0.4535373280723881,
          0.8948629960873162,
          0.5170837778543574,
          0.19388253025466984,
          0.26980315466649185,
          0.4734364413173949,
          0.15042554386019774,
          0.8122261642092397,
          0.2636421421365087,
          0.45479400633451306,
          0.832347186932568,
          0.2933619882442232,
          0.26723505373107515,
          0.7212335727169895,
          0.8335764508650627,
          0.7962869304045371,
          0.565504864114228,
          0.5071380713697278,
          0.523578278037715,
          0.46035163401873314,
          0.27166527342786145,
          0.19684452472651215,
          0.15612482628885593,
          0.4288426111490153,
          0.1717611376485117,
          0.3173916844166167,
          0.24325290718266218,
          0.5933664163240184,
          0.5006064851756044,
          0.5115338672955034,
          0.9067350689294311,
          0.8098587927814347,
          0.3088609752114475,
          0.6082151765054848,
          0.5949385699971241,
          0.9119726381063833,
          0.3278092139241744,
          0.0809664617775499,
          0.24735061650395887,
          0.453425935243141,
          0.4851852254994581,
          0.2588641968585436,
          0.3632436756135671,
          0.5543938716993198,
          0.3179771918169355,
          0.11090393756043537,
          0.3753959407650981,
          0.2154495704054915,
          0.8194576161658207,
          0.7011228114114515,
          0.1931540706892727,
          0.27458490795828383,
          0.3158762802593035,
          0.2164082631608496,
          0.5813976098209284,
          0.6971979960276686,
          0.4912223259334975,
          0.0022379663561641894
         ],
         "yaxis": "y"
        }
       ],
       "layout": {
        "legend": {
         "tracegroupgap": 0
        },
        "margin": {
         "t": 60
        },
        "template": {
         "data": {
          "bar": [
           {
            "error_x": {
             "color": "#2a3f5f"
            },
            "error_y": {
             "color": "#2a3f5f"
            },
            "marker": {
             "line": {
              "color": "#E5ECF6",
              "width": 0.5
             }
            },
            "type": "bar"
           }
          ],
          "barpolar": [
           {
            "marker": {
             "line": {
              "color": "#E5ECF6",
              "width": 0.5
             }
            },
            "type": "barpolar"
           }
          ],
          "carpet": [
           {
            "aaxis": {
             "endlinecolor": "#2a3f5f",
             "gridcolor": "white",
             "linecolor": "white",
             "minorgridcolor": "white",
             "startlinecolor": "#2a3f5f"
            },
            "baxis": {
             "endlinecolor": "#2a3f5f",
             "gridcolor": "white",
             "linecolor": "white",
             "minorgridcolor": "white",
             "startlinecolor": "#2a3f5f"
            },
            "type": "carpet"
           }
          ],
          "choropleth": [
           {
            "colorbar": {
             "outlinewidth": 0,
             "ticks": ""
            },
            "type": "choropleth"
           }
          ],
          "contour": [
           {
            "colorbar": {
             "outlinewidth": 0,
             "ticks": ""
            },
            "colorscale": [
             [
              0,
              "#0d0887"
             ],
             [
              0.1111111111111111,
              "#46039f"
             ],
             [
              0.2222222222222222,
              "#7201a8"
             ],
             [
              0.3333333333333333,
              "#9c179e"
             ],
             [
              0.4444444444444444,
              "#bd3786"
             ],
             [
              0.5555555555555556,
              "#d8576b"
             ],
             [
              0.6666666666666666,
              "#ed7953"
             ],
             [
              0.7777777777777778,
              "#fb9f3a"
             ],
             [
              0.8888888888888888,
              "#fdca26"
             ],
             [
              1,
              "#f0f921"
             ]
            ],
            "type": "contour"
           }
          ],
          "contourcarpet": [
           {
            "colorbar": {
             "outlinewidth": 0,
             "ticks": ""
            },
            "type": "contourcarpet"
           }
          ],
          "heatmap": [
           {
            "colorbar": {
             "outlinewidth": 0,
             "ticks": ""
            },
            "colorscale": [
             [
              0,
              "#0d0887"
             ],
             [
              0.1111111111111111,
              "#46039f"
             ],
             [
              0.2222222222222222,
              "#7201a8"
             ],
             [
              0.3333333333333333,
              "#9c179e"
             ],
             [
              0.4444444444444444,
              "#bd3786"
             ],
             [
              0.5555555555555556,
              "#d8576b"
             ],
             [
              0.6666666666666666,
              "#ed7953"
             ],
             [
              0.7777777777777778,
              "#fb9f3a"
             ],
             [
              0.8888888888888888,
              "#fdca26"
             ],
             [
              1,
              "#f0f921"
             ]
            ],
            "type": "heatmap"
           }
          ],
          "heatmapgl": [
           {
            "colorbar": {
             "outlinewidth": 0,
             "ticks": ""
            },
            "colorscale": [
             [
              0,
              "#0d0887"
             ],
             [
              0.1111111111111111,
              "#46039f"
             ],
             [
              0.2222222222222222,
              "#7201a8"
             ],
             [
              0.3333333333333333,
              "#9c179e"
             ],
             [
              0.4444444444444444,
              "#bd3786"
             ],
             [
              0.5555555555555556,
              "#d8576b"
             ],
             [
              0.6666666666666666,
              "#ed7953"
             ],
             [
              0.7777777777777778,
              "#fb9f3a"
             ],
             [
              0.8888888888888888,
              "#fdca26"
             ],
             [
              1,
              "#f0f921"
             ]
            ],
            "type": "heatmapgl"
           }
          ],
          "histogram": [
           {
            "marker": {
             "colorbar": {
              "outlinewidth": 0,
              "ticks": ""
             }
            },
            "type": "histogram"
           }
          ],
          "histogram2d": [
           {
            "colorbar": {
             "outlinewidth": 0,
             "ticks": ""
            },
            "colorscale": [
             [
              0,
              "#0d0887"
             ],
             [
              0.1111111111111111,
              "#46039f"
             ],
             [
              0.2222222222222222,
              "#7201a8"
             ],
             [
              0.3333333333333333,
              "#9c179e"
             ],
             [
              0.4444444444444444,
              "#bd3786"
             ],
             [
              0.5555555555555556,
              "#d8576b"
             ],
             [
              0.6666666666666666,
              "#ed7953"
             ],
             [
              0.7777777777777778,
              "#fb9f3a"
             ],
             [
              0.8888888888888888,
              "#fdca26"
             ],
             [
              1,
              "#f0f921"
             ]
            ],
            "type": "histogram2d"
           }
          ],
          "histogram2dcontour": [
           {
            "colorbar": {
             "outlinewidth": 0,
             "ticks": ""
            },
            "colorscale": [
             [
              0,
              "#0d0887"
             ],
             [
              0.1111111111111111,
              "#46039f"
             ],
             [
              0.2222222222222222,
              "#7201a8"
             ],
             [
              0.3333333333333333,
              "#9c179e"
             ],
             [
              0.4444444444444444,
              "#bd3786"
             ],
             [
              0.5555555555555556,
              "#d8576b"
             ],
             [
              0.6666666666666666,
              "#ed7953"
             ],
             [
              0.7777777777777778,
              "#fb9f3a"
             ],
             [
              0.8888888888888888,
              "#fdca26"
             ],
             [
              1,
              "#f0f921"
             ]
            ],
            "type": "histogram2dcontour"
           }
          ],
          "mesh3d": [
           {
            "colorbar": {
             "outlinewidth": 0,
             "ticks": ""
            },
            "type": "mesh3d"
           }
          ],
          "parcoords": [
           {
            "line": {
             "colorbar": {
              "outlinewidth": 0,
              "ticks": ""
             }
            },
            "type": "parcoords"
           }
          ],
          "pie": [
           {
            "automargin": true,
            "type": "pie"
           }
          ],
          "scatter": [
           {
            "marker": {
             "colorbar": {
              "outlinewidth": 0,
              "ticks": ""
             }
            },
            "type": "scatter"
           }
          ],
          "scatter3d": [
           {
            "line": {
             "colorbar": {
              "outlinewidth": 0,
              "ticks": ""
             }
            },
            "marker": {
             "colorbar": {
              "outlinewidth": 0,
              "ticks": ""
             }
            },
            "type": "scatter3d"
           }
          ],
          "scattercarpet": [
           {
            "marker": {
             "colorbar": {
              "outlinewidth": 0,
              "ticks": ""
             }
            },
            "type": "scattercarpet"
           }
          ],
          "scattergeo": [
           {
            "marker": {
             "colorbar": {
              "outlinewidth": 0,
              "ticks": ""
             }
            },
            "type": "scattergeo"
           }
          ],
          "scattergl": [
           {
            "marker": {
             "colorbar": {
              "outlinewidth": 0,
              "ticks": ""
             }
            },
            "type": "scattergl"
           }
          ],
          "scattermapbox": [
           {
            "marker": {
             "colorbar": {
              "outlinewidth": 0,
              "ticks": ""
             }
            },
            "type": "scattermapbox"
           }
          ],
          "scatterpolar": [
           {
            "marker": {
             "colorbar": {
              "outlinewidth": 0,
              "ticks": ""
             }
            },
            "type": "scatterpolar"
           }
          ],
          "scatterpolargl": [
           {
            "marker": {
             "colorbar": {
              "outlinewidth": 0,
              "ticks": ""
             }
            },
            "type": "scatterpolargl"
           }
          ],
          "scatterternary": [
           {
            "marker": {
             "colorbar": {
              "outlinewidth": 0,
              "ticks": ""
             }
            },
            "type": "scatterternary"
           }
          ],
          "surface": [
           {
            "colorbar": {
             "outlinewidth": 0,
             "ticks": ""
            },
            "colorscale": [
             [
              0,
              "#0d0887"
             ],
             [
              0.1111111111111111,
              "#46039f"
             ],
             [
              0.2222222222222222,
              "#7201a8"
             ],
             [
              0.3333333333333333,
              "#9c179e"
             ],
             [
              0.4444444444444444,
              "#bd3786"
             ],
             [
              0.5555555555555556,
              "#d8576b"
             ],
             [
              0.6666666666666666,
              "#ed7953"
             ],
             [
              0.7777777777777778,
              "#fb9f3a"
             ],
             [
              0.8888888888888888,
              "#fdca26"
             ],
             [
              1,
              "#f0f921"
             ]
            ],
            "type": "surface"
           }
          ],
          "table": [
           {
            "cells": {
             "fill": {
              "color": "#EBF0F8"
             },
             "line": {
              "color": "white"
             }
            },
            "header": {
             "fill": {
              "color": "#C8D4E3"
             },
             "line": {
              "color": "white"
             }
            },
            "type": "table"
           }
          ]
         },
         "layout": {
          "annotationdefaults": {
           "arrowcolor": "#2a3f5f",
           "arrowhead": 0,
           "arrowwidth": 1
          },
          "coloraxis": {
           "colorbar": {
            "outlinewidth": 0,
            "ticks": ""
           }
          },
          "colorscale": {
           "diverging": [
            [
             0,
             "#8e0152"
            ],
            [
             0.1,
             "#c51b7d"
            ],
            [
             0.2,
             "#de77ae"
            ],
            [
             0.3,
             "#f1b6da"
            ],
            [
             0.4,
             "#fde0ef"
            ],
            [
             0.5,
             "#f7f7f7"
            ],
            [
             0.6,
             "#e6f5d0"
            ],
            [
             0.7,
             "#b8e186"
            ],
            [
             0.8,
             "#7fbc41"
            ],
            [
             0.9,
             "#4d9221"
            ],
            [
             1,
             "#276419"
            ]
           ],
           "sequential": [
            [
             0,
             "#0d0887"
            ],
            [
             0.1111111111111111,
             "#46039f"
            ],
            [
             0.2222222222222222,
             "#7201a8"
            ],
            [
             0.3333333333333333,
             "#9c179e"
            ],
            [
             0.4444444444444444,
             "#bd3786"
            ],
            [
             0.5555555555555556,
             "#d8576b"
            ],
            [
             0.6666666666666666,
             "#ed7953"
            ],
            [
             0.7777777777777778,
             "#fb9f3a"
            ],
            [
             0.8888888888888888,
             "#fdca26"
            ],
            [
             1,
             "#f0f921"
            ]
           ],
           "sequentialminus": [
            [
             0,
             "#0d0887"
            ],
            [
             0.1111111111111111,
             "#46039f"
            ],
            [
             0.2222222222222222,
             "#7201a8"
            ],
            [
             0.3333333333333333,
             "#9c179e"
            ],
            [
             0.4444444444444444,
             "#bd3786"
            ],
            [
             0.5555555555555556,
             "#d8576b"
            ],
            [
             0.6666666666666666,
             "#ed7953"
            ],
            [
             0.7777777777777778,
             "#fb9f3a"
            ],
            [
             0.8888888888888888,
             "#fdca26"
            ],
            [
             1,
             "#f0f921"
            ]
           ]
          },
          "colorway": [
           "#636efa",
           "#EF553B",
           "#00cc96",
           "#ab63fa",
           "#FFA15A",
           "#19d3f3",
           "#FF6692",
           "#B6E880",
           "#FF97FF",
           "#FECB52"
          ],
          "font": {
           "color": "#2a3f5f"
          },
          "geo": {
           "bgcolor": "white",
           "lakecolor": "white",
           "landcolor": "#E5ECF6",
           "showlakes": true,
           "showland": true,
           "subunitcolor": "white"
          },
          "hoverlabel": {
           "align": "left"
          },
          "hovermode": "closest",
          "mapbox": {
           "style": "light"
          },
          "paper_bgcolor": "white",
          "plot_bgcolor": "#E5ECF6",
          "polar": {
           "angularaxis": {
            "gridcolor": "white",
            "linecolor": "white",
            "ticks": ""
           },
           "bgcolor": "#E5ECF6",
           "radialaxis": {
            "gridcolor": "white",
            "linecolor": "white",
            "ticks": ""
           }
          },
          "scene": {
           "xaxis": {
            "backgroundcolor": "#E5ECF6",
            "gridcolor": "white",
            "gridwidth": 2,
            "linecolor": "white",
            "showbackground": true,
            "ticks": "",
            "zerolinecolor": "white"
           },
           "yaxis": {
            "backgroundcolor": "#E5ECF6",
            "gridcolor": "white",
            "gridwidth": 2,
            "linecolor": "white",
            "showbackground": true,
            "ticks": "",
            "zerolinecolor": "white"
           },
           "zaxis": {
            "backgroundcolor": "#E5ECF6",
            "gridcolor": "white",
            "gridwidth": 2,
            "linecolor": "white",
            "showbackground": true,
            "ticks": "",
            "zerolinecolor": "white"
           }
          },
          "shapedefaults": {
           "line": {
            "color": "#2a3f5f"
           }
          },
          "ternary": {
           "aaxis": {
            "gridcolor": "white",
            "linecolor": "white",
            "ticks": ""
           },
           "baxis": {
            "gridcolor": "white",
            "linecolor": "white",
            "ticks": ""
           },
           "bgcolor": "#E5ECF6",
           "caxis": {
            "gridcolor": "white",
            "linecolor": "white",
            "ticks": ""
           }
          },
          "title": {
           "x": 0.05
          },
          "xaxis": {
           "automargin": true,
           "gridcolor": "white",
           "linecolor": "white",
           "ticks": "",
           "title": {
            "standoff": 15
           },
           "zerolinecolor": "white",
           "zerolinewidth": 2
          },
          "yaxis": {
           "automargin": true,
           "gridcolor": "white",
           "linecolor": "white",
           "ticks": "",
           "title": {
            "standoff": 15
           },
           "zerolinecolor": "white",
           "zerolinewidth": 2
          }
         }
        },
        "xaxis": {
         "anchor": "y",
         "domain": [
          0,
          1
         ],
         "title": {
          "text": "a"
         }
        },
        "yaxis": {
         "anchor": "x",
         "domain": [
          0,
          1
         ],
         "title": {
          "text": "b"
         }
        }
       }
      }
     },
     "metadata": {},
     "output_type": "display_data"
    }
   ],
   "source": [
    "fig.show()"
   ]
  },
  {
   "cell_type": "code",
   "execution_count": 59,
   "metadata": {},
   "outputs": [
    {
     "data": {
      "text/plain": [
       "<matplotlib.axes._subplots.AxesSubplot at 0x1a27523a1c0>"
      ]
     },
     "execution_count": 59,
     "metadata": {},
     "output_type": "execute_result"
    },
    {
     "data": {
      "image/png": "[encoded data removed]",
      "text/plain": [
       "<Figure size 432x288 with 1 Axes>"
      ]
     },
     "metadata": {
      "needs_background": "light"
     },
     "output_type": "display_data"
    }
   ],
   "source": [
    "df.plot.scatter(x=\"a\", y=\"b\")"
   ]
  },
  {
   "cell_type": "code",
   "execution_count": 9,
   "metadata": {},
   "outputs": [
    {
     "data": {
      "text/html": [
       "<div>\n",
       "<style scoped>\n",
       "    .dataframe tbody tr th:only-of-type {\n",
       "        vertical-align: middle;\n",
       "    }\n",
       "\n",
       "    .dataframe tbody tr th {\n",
       "        vertical-align: top;\n",
       "    }\n",
       "\n",
       "    .dataframe thead th {\n",
       "        text-align: right;\n",
       "    }\n",
       "</style>\n",
       "<table border=\"1\" class=\"dataframe\">\n",
       "  <thead>\n",
       "    <tr style=\"text-align: right;\">\n",
       "      <th></th>\n",
       "      <th>a</th>\n",
       "      <th>b</th>\n",
       "    </tr>\n",
       "  </thead>\n",
       "  <tbody>\n",
       "    <tr>\n",
       "      <th>0</th>\n",
       "      <td>3.971497</td>\n",
       "      <td>21.136286</td>\n",
       "    </tr>\n",
       "    <tr>\n",
       "      <th>1</th>\n",
       "      <td>3.971497</td>\n",
       "      <td>21.136286</td>\n",
       "    </tr>\n",
       "    <tr>\n",
       "      <th>2</th>\n",
       "      <td>3.971497</td>\n",
       "      <td>21.136286</td>\n",
       "    </tr>\n",
       "    <tr>\n",
       "      <th>3</th>\n",
       "      <td>3.971497</td>\n",
       "      <td>21.136286</td>\n",
       "    </tr>\n",
       "    <tr>\n",
       "      <th>4</th>\n",
       "      <td>3.971497</td>\n",
       "      <td>21.136286</td>\n",
       "    </tr>\n",
       "    <tr>\n",
       "      <th>...</th>\n",
       "      <td>...</td>\n",
       "      <td>...</td>\n",
       "    </tr>\n",
       "    <tr>\n",
       "      <th>1019</th>\n",
       "      <td>6.589491</td>\n",
       "      <td>-15.535368</td>\n",
       "    </tr>\n",
       "    <tr>\n",
       "      <th>1020</th>\n",
       "      <td>8.439924</td>\n",
       "      <td>6.126211</td>\n",
       "    </tr>\n",
       "    <tr>\n",
       "      <th>1021</th>\n",
       "      <td>7.515614</td>\n",
       "      <td>12.998793</td>\n",
       "    </tr>\n",
       "    <tr>\n",
       "      <th>1022</th>\n",
       "      <td>9.068190</td>\n",
       "      <td>0.774441</td>\n",
       "    </tr>\n",
       "    <tr>\n",
       "      <th>1023</th>\n",
       "      <td>10.608076</td>\n",
       "      <td>-28.246059</td>\n",
       "    </tr>\n",
       "  </tbody>\n",
       "</table>\n",
       "<p>1024 rows × 2 columns</p>\n",
       "</div>"
      ],
      "text/plain": [
       "              a          b\n",
       "0      3.971497  21.136286\n",
       "1      3.971497  21.136286\n",
       "2      3.971497  21.136286\n",
       "3      3.971497  21.136286\n",
       "4      3.971497  21.136286\n",
       "...         ...        ...\n",
       "1019   6.589491 -15.535368\n",
       "1020   8.439924   6.126211\n",
       "1021   7.515614  12.998793\n",
       "1022   9.068190   0.774441\n",
       "1023  10.608076 -28.246059\n",
       "\n",
       "[1024 rows x 2 columns]"
      ]
     },
     "execution_count": 9,
     "metadata": {},
     "output_type": "execute_result"
    }
   ],
   "source": [
    "# df.col2*10, df.col1*10\n",
    "df = df.multiply(10)\n",
    "# df.plot.scatter(x=df.a*10, y=df.b*10)"
   ]
  },
  {
   "cell_type": "code",
   "execution_count": 11,
   "metadata": {},
   "outputs": [
    {
     "data": {
      "text/plain": [
       "<matplotlib.axes._subplots.AxesSubplot at 0x1ae1062aaf0>"
      ]
     },
     "execution_count": 11,
     "metadata": {},
     "output_type": "execute_result"
    },
    {
     "data": {
      "image/png": "[encoded data removed]",
      "text/plain": [
       "<Figure size 432x288 with 1 Axes>"
      ]
     },
     "metadata": {
      "needs_background": "light"
     },
     "output_type": "display_data"
    }
   ],
   "source": [
    "df.plot.scatter(x=\"b\", y=\"a\")\n",
    "#Now that looks like a world map"
   ]
  },
  {
   "cell_type": "code",
   "execution_count": 62,
   "metadata": {},
   "outputs": [
    {
     "data": {
      "text/plain": [
       "<matplotlib.axes._subplots.AxesSubplot at 0x1a275602640>"
      ]
     },
     "execution_count": 62,
     "metadata": {},
     "output_type": "execute_result"
    },
    {
     "data": {
      "image/png": "[encoded data removed]",
      "text/plain": [
       "<Figure size 432x288 with 1 Axes>"
      ]
     },
     "metadata": {
      "needs_background": "light"
     },
     "output_type": "display_data"
    }
   ],
   "source": [
    "df.plot(x='a', y='b')"
   ]
  },
  {
   "cell_type": "code",
   "execution_count": 78,
   "metadata": {},
   "outputs": [
    {
     "data": {
      "text/html": [
       "<div>\n",
       "<style scoped>\n",
       "    .dataframe tbody tr th:only-of-type {\n",
       "        vertical-align: middle;\n",
       "    }\n",
       "\n",
       "    .dataframe tbody tr th {\n",
       "        vertical-align: top;\n",
       "    }\n",
       "\n",
       "    .dataframe thead th {\n",
       "        text-align: right;\n",
       "    }\n",
       "</style>\n",
       "<table border=\"1\" class=\"dataframe\">\n",
       "  <thead>\n",
       "    <tr style=\"text-align: right;\">\n",
       "      <th></th>\n",
       "      <th>a</th>\n",
       "      <th>b</th>\n",
       "    </tr>\n",
       "  </thead>\n",
       "  <tbody>\n",
       "    <tr>\n",
       "      <th>0</th>\n",
       "      <td>0.623551</td>\n",
       "      <td>0.834312</td>\n",
       "    </tr>\n",
       "    <tr>\n",
       "      <th>1</th>\n",
       "      <td>0.623551</td>\n",
       "      <td>0.834312</td>\n",
       "    </tr>\n",
       "    <tr>\n",
       "      <th>2</th>\n",
       "      <td>0.623551</td>\n",
       "      <td>0.834312</td>\n",
       "    </tr>\n",
       "    <tr>\n",
       "      <th>3</th>\n",
       "      <td>0.623551</td>\n",
       "      <td>0.834312</td>\n",
       "    </tr>\n",
       "    <tr>\n",
       "      <th>4</th>\n",
       "      <td>0.623551</td>\n",
       "      <td>0.834312</td>\n",
       "    </tr>\n",
       "  </tbody>\n",
       "</table>\n",
       "</div>"
      ],
      "text/plain": [
       "          a         b\n",
       "0  0.623551  0.834312\n",
       "1  0.623551  0.834312\n",
       "2  0.623551  0.834312\n",
       "3  0.623551  0.834312\n",
       "4  0.623551  0.834312"
      ]
     },
     "execution_count": 78,
     "metadata": {},
     "output_type": "execute_result"
    }
   ],
   "source": [
    "df[['a', 'b']] = scaler.fit_transform(df[['a', 'b']])\n",
    "df.head()"
   ]
  },
  {
   "cell_type": "code",
   "execution_count": 75,
   "metadata": {},
   "outputs": [
    {
     "data": {
      "text/plain": [
       "<matplotlib.axes._subplots.AxesSubplot at 0x1a20d6bb7f0>"
      ]
     },
     "execution_count": 75,
     "metadata": {},
     "output_type": "execute_result"
    },
    {
     "data": {
      "image/png": "[encoded data removed]",
      "text/plain": [
       "<Figure size 432x288 with 1 Axes>"
      ]
     },
     "metadata": {
      "needs_background": "light"
     },
     "output_type": "display_data"
    }
   ],
   "source": [
    "df.plot(x='a', y='b')"
   ]
  },
  {
   "cell_type": "code",
   "execution_count": 76,
   "metadata": {},
   "outputs": [
    {
     "data": {
      "text/plain": [
       "<matplotlib.axes._subplots.AxesSubplot at 0x1a20d751100>"
      ]
     },
     "execution_count": 76,
     "metadata": {},
     "output_type": "execute_result"
    },
    {
     "data": {
      "image/png": "[encoded data removed]",
      "text/plain": [
       "<Figure size 432x288 with 1 Axes>"
      ]
     },
     "metadata": {
      "needs_background": "light"
     },
     "output_type": "display_data"
    }
   ],
   "source": [
    "df.plot.scatter(x=\"a\", y=\"b\")"
   ]
  },
  {
   "cell_type": "code",
   "execution_count": 79,
   "metadata": {},
   "outputs": [
    {
     "data": {
      "text/plain": [
       "<matplotlib.axes._subplots.AxesSubplot at 0x1a20d7a7d60>"
      ]
     },
     "execution_count": 79,
     "metadata": {},
     "output_type": "execute_result"
    },
    {
     "data": {
      "image/png": "[encoded data removed]",
      "text/plain": [
       "<Figure size 432x288 with 1 Axes>"
      ]
     },
     "metadata": {
      "needs_background": "light"
     },
     "output_type": "display_data"
    }
   ],
   "source": [
    "df.plot(kind='line')"
   ]
  },
  {
   "cell_type": "code",
   "execution_count": null,
   "metadata": {},
   "outputs": [],
   "source": []
  }
 ],
 "metadata": {
  "kernelspec": {
   "display_name": "Python 3.8.1 64-bit ('sound_drip': conda)",
   "language": "python",
   "name": "python38164bitsounddripcondaa88c6a5ea4794892a06f49613f47c5a4"
  },
  "language_info": {
   "codemirror_mode": {
    "name": "ipython",
    "version": 3
   },
   "file_extension": ".py",
   "mimetype": "text/x-python",
   "name": "python",
   "nbconvert_exporter": "python",
   "pygments_lexer": "ipython3",
   "version": "3.8.1"
  }
 },
 "nbformat": 4,
 "nbformat_minor": 4
}
